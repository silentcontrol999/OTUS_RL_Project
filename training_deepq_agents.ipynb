{
 "cells": [
  {
   "cell_type": "code",
   "execution_count": 1,
   "id": "d7c9a012-59dc-49df-ac4e-706733fe2589",
   "metadata": {
    "execution": {
     "iopub.execute_input": "2024-03-13T10:16:27.855047Z",
     "iopub.status.busy": "2024-03-13T10:16:27.854871Z",
     "iopub.status.idle": "2024-03-13T10:16:27.862611Z",
     "shell.execute_reply": "2024-03-13T10:16:27.862394Z",
     "shell.execute_reply.started": "2024-03-13T10:16:27.855038Z"
    }
   },
   "outputs": [],
   "source": [
    "%load_ext autoreload\n",
    "%autoreload 2"
   ]
  },
  {
   "cell_type": "code",
   "execution_count": 2,
   "id": "50dbdaf2-286c-44b2-8af0-9c4a3f764746",
   "metadata": {
    "execution": {
     "iopub.execute_input": "2024-03-13T10:16:28.201186Z",
     "iopub.status.busy": "2024-03-13T10:16:28.200982Z",
     "iopub.status.idle": "2024-03-13T10:16:28.481843Z",
     "shell.execute_reply": "2024-03-13T10:16:28.481606Z",
     "shell.execute_reply.started": "2024-03-13T10:16:28.201177Z"
    }
   },
   "outputs": [],
   "source": [
    "import sys\n",
    "import os\n",
    "import pickle\n",
    "\n",
    "import numpy as np\n",
    "import pandas as pd\n",
    "from multiprocessing import Pool\n",
    "\n",
    "import matplotlib.pyplot as plt\n",
    "from tqdm.notebook import tqdm\n",
    "\n",
    "import gc"
   ]
  },
  {
   "cell_type": "code",
   "execution_count": 3,
   "id": "b62dade6-d044-443f-9e37-42ea12b899d6",
   "metadata": {
    "execution": {
     "iopub.execute_input": "2024-03-13T10:16:28.582395Z",
     "iopub.status.busy": "2024-03-13T10:16:28.582226Z",
     "iopub.status.idle": "2024-03-13T10:16:29.044425Z",
     "shell.execute_reply": "2024-03-13T10:16:29.044181Z",
     "shell.execute_reply.started": "2024-03-13T10:16:28.582387Z"
    }
   },
   "outputs": [],
   "source": [
    "sys.path.append(\"../environment\")\n",
    "sys.path.append(\"../agent/\")\n",
    "\n",
    "from market_env import HFTMarketEnvironment\n",
    "from baseline_agent import FixedOffsetMMAgent\n",
    "from deep_q_agent import DQLAgent"
   ]
  },
  {
   "cell_type": "code",
   "execution_count": 4,
   "id": "c2349fcd-e027-4449-bb42-97c18a7131e4",
   "metadata": {
    "execution": {
     "iopub.execute_input": "2024-03-13T10:16:29.044949Z",
     "iopub.status.busy": "2024-03-13T10:16:29.044864Z",
     "iopub.status.idle": "2024-03-13T10:16:29.051825Z",
     "shell.execute_reply": "2024-03-13T10:16:29.051633Z",
     "shell.execute_reply.started": "2024-03-13T10:16:29.044942Z"
    }
   },
   "outputs": [],
   "source": [
    "def read_rl_data(date):\n",
    "    data_path = \"../rl_data\"\n",
    "    with open(f\"{data_path}/bid_ask/{date}.pickle\", 'rb') as f:\n",
    "        ba = pickle.load(f)\n",
    "    with open(f\"{data_path}/last_trade/{date}.pickle\", 'rb') as f:\n",
    "        lt = pickle.load(f)\n",
    "    return ba, lt"
   ]
  },
  {
   "cell_type": "markdown",
   "id": "e35f986b-e3a1-4398-af02-c398b382cb05",
   "metadata": {},
   "source": [
    "# Baseline agent"
   ]
  },
  {
   "cell_type": "code",
   "execution_count": 5,
   "id": "dc9be308-41f0-46cf-8df0-6ec9796e2381",
   "metadata": {
    "execution": {
     "iopub.execute_input": "2024-03-13T10:16:29.696377Z",
     "iopub.status.busy": "2024-03-13T10:16:29.696148Z",
     "iopub.status.idle": "2024-03-13T10:16:29.704511Z",
     "shell.execute_reply": "2024-03-13T10:16:29.704315Z",
     "shell.execute_reply.started": "2024-03-13T10:16:29.696368Z"
    }
   },
   "outputs": [
    {
     "data": {
      "text/plain": [
       "['2024-01-08',\n",
       " '2024-01-09',\n",
       " '2024-01-10',\n",
       " '2024-01-11',\n",
       " '2024-01-12',\n",
       " '2024-01-13',\n",
       " '2024-01-14',\n",
       " '2024-01-15',\n",
       " '2024-01-16',\n",
       " '2024-01-17',\n",
       " '2024-01-18',\n",
       " '2024-01-19',\n",
       " '2024-01-20',\n",
       " '2024-01-21']"
      ]
     },
     "execution_count": 5,
     "metadata": {},
     "output_type": "execute_result"
    }
   ],
   "source": [
    "dates_list = os.listdir(\"../rl_data/bid_ask/\")\n",
    "dates_list = sorted([x.split(\".pickle\")[0] for x in dates_list if x != \".ipynb_checkpoints\"])\n",
    "dates_list"
   ]
  },
  {
   "cell_type": "code",
   "execution_count": 6,
   "id": "18884205-c512-4630-9faf-f400b083be65",
   "metadata": {
    "execution": {
     "iopub.execute_input": "2024-03-13T10:16:30.160367Z",
     "iopub.status.busy": "2024-03-13T10:16:30.160207Z",
     "iopub.status.idle": "2024-03-13T10:16:30.167936Z",
     "shell.execute_reply": "2024-03-13T10:16:30.167730Z",
     "shell.execute_reply.started": "2024-03-13T10:16:30.160359Z"
    }
   },
   "outputs": [],
   "source": [
    "def run_deepq_train_agent_mlp(date):\n",
    "    ba, lt = read_rl_data(date)\n",
    "\n",
    "    params = {\n",
    "        \"bid_ask\": ba,\n",
    "        \"trades\": lt,\n",
    "        \"balance\": {\"BTC\": 0.2, \"FDUSD\": 10000},\n",
    "        \"cancel_frequency\": 10\n",
    "    }\n",
    "    \n",
    "    env = HFTMarketEnvironment(params)\n",
    "    dql_agent = DQLAgent(\n",
    "        state_dim=39, \n",
    "        lr=5e-4,\n",
    "        gamma=0.99,\n",
    "        epsilon=1.0,\n",
    "        epsilon_decay=0.999,\n",
    "        epsilon_min=0.01,\n",
    "        batch_size=512,\n",
    "        memory_size=10000\n",
    "    )\n",
    "    train_rewards = dql_agent.train(env, num_episodes=20)\n",
    "    with open(f\"../results/deepq_v1/agent_train_{date}.pickle\", 'wb') as file:\n",
    "        pickle.dump(dql_agent, file)\n",
    "    del dql_agent, ba, lt\n",
    "    gc.collect()\n",
    "    return train_rewards "
   ]
  },
  {
   "cell_type": "code",
   "execution_count": null,
   "id": "da9d0fd0-3321-40c9-b9bb-2ae32809ddb2",
   "metadata": {
    "execution": {
     "iopub.execute_input": "2024-03-13T10:16:49.355698Z",
     "iopub.status.busy": "2024-03-13T10:16:49.355518Z"
    }
   },
   "outputs": [
    {
     "data": {
      "application/vnd.jupyter.widget-view+json": {
       "model_id": "7e1439e67b344c5c98c3110b7aa80c88",
       "version_major": 2,
       "version_minor": 0
      },
      "text/plain": [
       "  0%|          | 0/14 [00:00<?, ?it/s]"
      ]
     },
     "metadata": {},
     "output_type": "display_data"
    },
    {
     "name": "stdout",
     "output_type": "stream",
     "text": [
      "Episode: 1/20, Total Reward: -1203.02209999986\n",
      "Episode: 1/20, Total Reward: -1747.36359999984\n",
      "Episode: 1/20, Total Reward: -1953.069849999863\n",
      "Episode: 1/20, Total Reward: -2127.2039999996464\n",
      "Episode: 2/20, Total Reward: -422.8409999999515\n",
      "Episode: 2/20, Total Reward: -81.05959999997897\n",
      "Episode: 2/20, Total Reward: -697.1220500000304\n",
      "Episode: 2/20, Total Reward: 399.8933500000279\n",
      "Episode: 3/20, Total Reward: -245.2244999999453\n",
      "Episode: 3/20, Total Reward: -642.1658499999817\n",
      "Episode: 3/20, Total Reward: -411.5532500000809\n",
      "Episode: 3/20, Total Reward: -549.086299999962\n",
      "Episode: 4/20, Total Reward: -773.4049999999681\n",
      "Episode: 4/20, Total Reward: -878.9024499999922\n",
      "Episode: 4/20, Total Reward: -1479.2459500002153\n",
      "Episode: 5/20, Total Reward: -76.67229999992995\n",
      "Episode: 4/20, Total Reward: 4.67480000002709\n",
      "Episode: 5/20, Total Reward: -880.8006999999924\n",
      "Episode: 5/20, Total Reward: -84.30800000002083\n",
      "Episode: 6/20, Total Reward: -679.7363999999571\n",
      "Episode: 5/20, Total Reward: 632.3206000000001\n",
      "Episode: 6/20, Total Reward: -79.20640000000003\n",
      "Episode: 7/20, Total Reward: -231.42319999998867\n",
      "Episode: 6/20, Total Reward: -1027.0756000001347\n",
      "Episode: 7/20, Total Reward: 0\n",
      "Episode: 6/20, Total Reward: -792.7752500000176\n",
      "Episode: 8/20, Total Reward: -1286.0192999999533\n",
      "Episode: 7/20, Total Reward: -105.44070000005803\n",
      "Episode: 8/20, Total Reward: -1084.4734499997694\n",
      "Episode: 7/20, Total Reward: -575.0021500000106\n",
      "Episode: 9/20, Total Reward: -228.00369999998608\n",
      "Episode: 8/20, Total Reward: 0\n",
      "Episode: 9/20, Total Reward: -90.36014999996779\n",
      "Episode: 10/20, Total Reward: -726.4200499999407\n",
      "Episode: 8/20, Total Reward: -232.6109000000035\n",
      "Episode: 10/20, Total Reward: 0\n",
      "Episode: 9/20, Total Reward: -1471.7474499999284\n",
      "Episode: 11/20, Total Reward: -258.28834999992625\n",
      "Episode: 9/20, Total Reward: 145.1858499999614\n",
      "Episode: 11/20, Total Reward: 0\n",
      "Episode: 10/20, Total Reward: -861.3255000000884\n",
      "Episode: 12/20, Total Reward: -3.3381999999764576\n",
      "Episode: 10/20, Total Reward: 554.9020499999739\n",
      "Episode: 12/20, Total Reward: 0\n",
      "Episode: 13/20, Total Reward: -1014.4039499996006\n",
      "Episode: 11/20, Total Reward: -2627.432700000379\n",
      "Episode: 13/20, Total Reward: 0\n",
      "Episode: 14/20, Total Reward: -39.28609999998712\n",
      "Episode: 11/20, Total Reward: -105.42930000000166\n",
      "Episode: 12/20, Total Reward: -887.3731000000608\n",
      "Episode: 15/20, Total Reward: -454.54424999997843\n",
      "Episode: 14/20, Total Reward: 0\n",
      "Episode: 12/20, Total Reward: 0\n",
      "Episode: 13/20, Total Reward: -2125.629950000158\n",
      "Episode: 16/20, Total Reward: -535.2362999999779\n",
      "Episode: 15/20, Total Reward: 0\n",
      "Episode: 13/20, Total Reward: 0\n",
      "Episode: 14/20, Total Reward: -82.55810000001223\n",
      "Episode: 17/20, Total Reward: -5.558299999999399\n",
      "Episode: 16/20, Total Reward: 0\n",
      "Episode: 14/20, Total Reward: 0\n",
      "Episode: 15/20, Total Reward: -21.19540000000001\n",
      "Episode: 18/20, Total Reward: -606.1440499999868\n",
      "Episode: 17/20, Total Reward: 0\n",
      "Episode: 19/20, Total Reward: -238.35179999998445\n",
      "Episode: 15/20, Total Reward: 0\n",
      "Episode: 16/20, Total Reward: -4506.827650000356\n",
      "Episode: 18/20, Total Reward: 0\n",
      "Episode: 20/20, Total Reward: -491.75249999996157\n",
      "Episode: 19/20, Total Reward: 0\n",
      "Episode: 17/20, Total Reward: -5552.0843500005285\n",
      "Episode: 16/20, Total Reward: -647.0516000000547\n",
      "Episode: 1/20, Total Reward: -1450.4143499999623\n",
      "Episode: 20/20, Total Reward: 0\n",
      "Episode: 18/20, Total Reward: -5586.435150000513\n",
      "Episode: 17/20, Total Reward: -167.1529000000086\n",
      "Episode: 1/20, Total Reward: -588.8611499998352\n",
      "Episode: 2/20, Total Reward: -488.90759999999693\n",
      "Episode: 19/20, Total Reward: -5599.031000000516\n",
      "Episode: 2/20, Total Reward: -134.91564999998087\n",
      "Episode: 18/20, Total Reward: -1127.4156000000917\n",
      "Episode: 3/20, Total Reward: -41.3458499999982\n",
      "Episode: 3/20, Total Reward: 127.59049999998264\n",
      "Episode: 20/20, Total Reward: -5614.08960000053\n",
      "Episode: 19/20, Total Reward: -846.3502500000075\n",
      "Episode: 4/20, Total Reward: -57.05324999997578\n",
      "Episode: 1/20, Total Reward: -909.8704500000139\n",
      "Episode: 5/20, Total Reward: -148.91214999997794\n",
      "Episode: 2/20, Total Reward: -599.8223999999963\n",
      "Episode: 4/20, Total Reward: -896.4820000000414\n",
      "Episode: 20/20, Total Reward: -351.18989999999434\n",
      "Episode: 6/20, Total Reward: -134.18414999998112\n",
      "Episode: 3/20, Total Reward: -274.9614999999912\n",
      "Episode: 1/20, Total Reward: -860.2391499998976\n",
      "Episode: 4/20, Total Reward: -174.3793000000051\n",
      "Episode: 5/20, Total Reward: -1084.7301500000376\n",
      "Episode: 7/20, Total Reward: -30.00774999994551\n",
      "Episode: 2/20, Total Reward: -308.81819999994826\n",
      "Episode: 5/20, Total Reward: -204.7925499999865\n",
      "Episode: 8/20, Total Reward: -58.196349999985834\n",
      "Episode: 3/20, Total Reward: -241.5000999999428\n",
      "Episode: 6/20, Total Reward: -296.4599999999654\n",
      "Episode: 6/20, Total Reward: -706.9740000000165\n",
      "Episode: 9/20, Total Reward: -195.79689999993028\n",
      "Episode: 7/20, Total Reward: -284.8387999999407\n",
      "Episode: 4/20, Total Reward: -236.76534999999177\n",
      "Episode: 10/20, Total Reward: -199.95744999996333\n",
      "Episode: 8/20, Total Reward: -96.25080000001749\n",
      "Episode: 7/20, Total Reward: -761.1335499999992\n",
      "Episode: 5/20, Total Reward: 289.1050000000452\n",
      "Episode: 11/20, Total Reward: -50.69754999998308\n",
      "Episode: 9/20, Total Reward: -197.397500000009\n",
      "Episode: 6/20, Total Reward: -3.6229499999597117\n",
      "Episode: 12/20, Total Reward: -87.06084999999202\n",
      "Episode: 10/20, Total Reward: 0\n",
      "Episode: 8/20, Total Reward: -498.50129999999905\n",
      "Episode: 7/20, Total Reward: -238.1962999999263\n",
      "Episode: 11/20, Total Reward: -1278.0656999996027\n",
      "Episode: 13/20, Total Reward: -162.2905999999908\n",
      "Episode: 12/20, Total Reward: -243.21854999993104\n",
      "Episode: 8/20, Total Reward: -392.1423000000077\n",
      "Episode: 14/20, Total Reward: -446.79164999999045\n",
      "Episode: 9/20, Total Reward: -24.422099999999993\n",
      "Episode: 13/20, Total Reward: -326.30054999989466\n",
      "Episode: 9/20, Total Reward: 0\n",
      "Episode: 15/20, Total Reward: 30.18970000002383\n",
      "Episode: 14/20, Total Reward: -886.4262999997001\n",
      "Episode: 10/20, Total Reward: -1826.6236999998207\n",
      "Episode: 10/20, Total Reward: 0\n",
      "Episode: 16/20, Total Reward: -329.1705999999097\n",
      "Episode: 15/20, Total Reward: -237.52709999993183\n",
      "Episode: 17/20, Total Reward: -93.63604999996147\n",
      "Episode: 11/20, Total Reward: 0\n",
      "Episode: 16/20, Total Reward: -498.7684999998209\n",
      "Episode: 11/20, Total Reward: -1000.1669499998992\n",
      "Episode: 18/20, Total Reward: -58.41364999992735\n",
      "Episode: 12/20, Total Reward: 0\n",
      "Episode: 17/20, Total Reward: -609.5342999998592\n",
      "Episode: 19/20, Total Reward: -128.51109999993812\n",
      "Episode: 18/20, Total Reward: -30.810799999975817\n",
      "Episode: 13/20, Total Reward: 0\n",
      "Episode: 12/20, Total Reward: -641.8368499999314\n",
      "Episode: 19/20, Total Reward: -397.908300000018\n",
      "Episode: 20/20, Total Reward: -130.21039999996464\n",
      "Episode: 14/20, Total Reward: 0\n",
      "Episode: 20/20, Total Reward: 0\n",
      "Episode: 1/20, Total Reward: -849.4413499998047\n",
      "Episode: 13/20, Total Reward: -227.58964999999895\n",
      "Episode: 15/20, Total Reward: 0\n",
      "Episode: 1/20, Total Reward: -437.88744999978115\n",
      "Episode: 2/20, Total Reward: -134.89309999996556\n",
      "Episode: 16/20, Total Reward: 0\n",
      "Episode: 2/20, Total Reward: -188.76664999995253\n",
      "Episode: 14/20, Total Reward: -3767.0101499994\n",
      "Episode: 3/20, Total Reward: -243.66424999997454\n",
      "Episode: 17/20, Total Reward: 0\n",
      "Episode: 3/20, Total Reward: 12.614900000034067\n",
      "Episode: 4/20, Total Reward: -184.14289999998692\n",
      "Episode: 18/20, Total Reward: 0\n",
      "Episode: 4/20, Total Reward: -42.66439999997546\n",
      "Episode: 15/20, Total Reward: -257.8109999999737\n",
      "Episode: 5/20, Total Reward: -247.8385499999927\n",
      "Episode: 19/20, Total Reward: 0\n",
      "Episode: 5/20, Total Reward: -177.92419999997185\n",
      "Episode: 6/20, Total Reward: -121.64039999998148\n",
      "Episode: 6/20, Total Reward: -253.36344999994904\n",
      "Episode: 20/20, Total Reward: 0\n",
      "Episode: 16/20, Total Reward: -2301.4466000000166\n",
      "Episode: 7/20, Total Reward: 198.37230000003683\n",
      "Episode: 7/20, Total Reward: -244.85245000000572\n",
      "Episode: 1/20, Total Reward: -842.4651499998974\n",
      "Episode: 8/20, Total Reward: -45.75499999997238\n",
      "Episode: 17/20, Total Reward: -323.7348500000016\n",
      "Episode: 8/20, Total Reward: -39.585500000013916\n",
      "Episode: 2/20, Total Reward: -386.14139999998287\n",
      "Episode: 9/20, Total Reward: 34.086650000039974\n",
      "Episode: 3/20, Total Reward: -461.0971999998992\n",
      "Episode: 9/20, Total Reward: -1345.2200999998674\n",
      "Episode: 10/20, Total Reward: -57.67329999995963\n",
      "Episode: 18/20, Total Reward: -2410.143650000026\n",
      "Episode: 4/20, Total Reward: -300.09014999996725\n",
      "Episode: 10/20, Total Reward: -60.38014999998764\n",
      "Episode: 11/20, Total Reward: -27.113999999970545\n",
      "Episode: 5/20, Total Reward: -299.23139999998915\n",
      "Episode: 11/20, Total Reward: -794.0875999999607\n",
      "Episode: 19/20, Total Reward: -663.5865000000035\n",
      "Episode: 12/20, Total Reward: -19.70914999996899\n",
      "Episode: 6/20, Total Reward: -394.07640000000396\n",
      "Episode: 12/20, Total Reward: -346.85819999997574\n",
      "Episode: 13/20, Total Reward: 127.57710000002713\n",
      "Episode: 20/20, Total Reward: -2292.4369000000147\n",
      "Episode: 7/20, Total Reward: 15.399249999996332\n",
      "Episode: 14/20, Total Reward: -213.80849999998424\n",
      "Episode: 13/20, Total Reward: -400.62914999998674\n",
      "Episode: 15/20, Total Reward: -126.6424999999845\n",
      "Episode: 8/20, Total Reward: 0\n",
      "Episode: 1/20, Total Reward: -1169.1267999998468\n",
      "Episode: 14/20, Total Reward: -274.0536999999905\n",
      "Episode: 16/20, Total Reward: -47.56329999997914\n",
      "Episode: 9/20, Total Reward: -632.8856500000446\n",
      "Episode: 15/20, Total Reward: -197.14054999998672\n",
      "Episode: 2/20, Total Reward: -565.3149499999436\n",
      "Episode: 17/20, Total Reward: -138.2495999999692\n",
      "Episode: 10/20, Total Reward: -194.86380000001108\n",
      "Episode: 16/20, Total Reward: -524.049649999975\n",
      "Episode: 3/20, Total Reward: -374.86744999999627\n",
      "Episode: 18/20, Total Reward: 3.387250000030992\n",
      "Episode: 11/20, Total Reward: -379.3265000000342\n",
      "Episode: 17/20, Total Reward: 36.40200000001742\n",
      "Episode: 19/20, Total Reward: -92.4938999999717\n",
      "Episode: 4/20, Total Reward: -230.33609999998606\n",
      "Episode: 12/20, Total Reward: -5.625400000007234\n",
      "Episode: 18/20, Total Reward: 59.79810000001335\n",
      "Episode: 20/20, Total Reward: -3.3821999999686216\n",
      "Episode: 5/20, Total Reward: -326.08349999999797\n",
      "Episode: 1/20, Total Reward: -178.64794999994945\n",
      "Episode: 13/20, Total Reward: -269.90150000000824\n",
      "Episode: 19/20, Total Reward: -16.706900000000132\n",
      "Episode: 2/20, Total Reward: -89.45609999997367\n",
      "Episode: 6/20, Total Reward: -86.69934999999687\n",
      "Episode: 3/20, Total Reward: -53.373799999967325\n",
      "Episode: 14/20, Total Reward: -284.3201500000064\n",
      "Episode: 20/20, Total Reward: -344.3072999999644\n",
      "Episode: 4/20, Total Reward: -44.476549999996244\n",
      "Episode: 1/20, Total Reward: -214.81424999994508\n",
      "Episode: 5/20, Total Reward: -9.19404999999196\n",
      "Episode: 7/20, Total Reward: -76.897100000008\n",
      "Episode: 15/20, Total Reward: -95.55805000001139\n",
      "Episode: 2/20, Total Reward: -312.3622999999351\n",
      "Episode: 6/20, Total Reward: 62.96800000000023\n",
      "Episode: 3/20, Total Reward: -132.8753499999732\n",
      "Episode: 4/20, Total Reward: 1.5081500000165402\n",
      "Episode: 7/20, Total Reward: -56.59404999999755\n",
      "Episode: 16/20, Total Reward: 180.35059999998643\n",
      "Episode: 5/20, Total Reward: -92.53649999998962\n",
      "Episode: 8/20, Total Reward: -163.62289999997057\n",
      "Episode: 8/20, Total Reward: -43.18339999999913\n",
      "Episode: 6/20, Total Reward: -125.7762999999962\n",
      "Episode: 7/20, Total Reward: 6.915100000016312\n",
      "Episode: 9/20, Total Reward: -6.575499999995869\n",
      "Episode: 17/20, Total Reward: 81.77929999999344\n",
      "Episode: 8/20, Total Reward: -111.63844999998358\n",
      "Episode: 9/20, Total Reward: -175.66579999998208\n",
      "Episode: 10/20, Total Reward: -40.871699999969124\n",
      "Episode: 9/20, Total Reward: 35.06055000004224\n",
      "Episode: 11/20, Total Reward: 51.4433500000396\n",
      "Episode: 10/20, Total Reward: 18.551900000015888\n",
      "Episode: 18/20, Total Reward: -350.52455000002465\n",
      "Episode: 11/20, Total Reward: 21.743750000020157\n",
      "Episode: 12/20, Total Reward: -8.470299999966137\n",
      "Episode: 10/20, Total Reward: 161.23475000004638\n",
      "Episode: 12/20, Total Reward: -53.44739999999138\n",
      "Episode: 13/20, Total Reward: -42.675849999933355\n",
      "Episode: 13/20, Total Reward: 75.77180000001823\n",
      "Episode: 19/20, Total Reward: -51.370350000003896\n",
      "Episode: 14/20, Total Reward: -105.51099999998192\n",
      "Episode: 14/20, Total Reward: 1.5580000000675729\n",
      "Episode: 11/20, Total Reward: -228.92614999998284\n",
      "Episode: 15/20, Total Reward: -82.5616999999898\n",
      "Episode: 15/20, Total Reward: -45.02654999992689\n",
      "Episode: 20/20, Total Reward: 0\n",
      "Episode: 16/20, Total Reward: -16.825199999988435\n",
      "Episode: 16/20, Total Reward: 83.82785000008062\n",
      "Episode: 17/20, Total Reward: 18.454900000016572\n",
      "Episode: 12/20, Total Reward: -37.60634999995831\n",
      "Episode: 18/20, Total Reward: -75.20329999999568\n",
      "Episode: 17/20, Total Reward: -30.134399999942183\n",
      "Episode: 19/20, Total Reward: 36.93835000001339\n",
      "Episode: 18/20, Total Reward: 58.22100000005019\n",
      "Episode: 20/20, Total Reward: -92.68614999998081\n",
      "Episode: 13/20, Total Reward: -498.5062999999539\n",
      "Episode: 19/20, Total Reward: -125.20449999990444\n",
      "Episode: 20/20, Total Reward: 14.283000000010375\n",
      "Episode: 14/20, Total Reward: -18.0008499999714\n",
      "Episode: 15/20, Total Reward: 0\n",
      "Episode: 16/20, Total Reward: -4.606500000000015\n",
      "Episode: 17/20, Total Reward: -262.07954999988516\n",
      "Episode: 18/20, Total Reward: -208.7066999999801\n"
     ]
    }
   ],
   "source": [
    "with Pool(processes=4) as pool:\n",
    "    results = list(tqdm(pool.imap(run_deepq_train_agent_mlp, dates_list), total=len(dates_list)))"
   ]
  },
  {
   "cell_type": "code",
   "execution_count": null,
   "id": "2fb63ca4-2479-49c4-bd50-21f0e8e32522",
   "metadata": {},
   "outputs": [],
   "source": []
  },
  {
   "cell_type": "code",
   "execution_count": null,
   "id": "679f6a86-1bce-40f5-8389-f21932d80516",
   "metadata": {},
   "outputs": [],
   "source": []
  },
  {
   "cell_type": "code",
   "execution_count": 8,
   "id": "7847732a-08c0-4869-8463-2a2e41e92274",
   "metadata": {
    "execution": {
     "iopub.execute_input": "2024-03-12T21:06:46.529536Z",
     "iopub.status.busy": "2024-03-12T21:06:46.529334Z",
     "iopub.status.idle": "2024-03-12T21:06:46.538375Z",
     "shell.execute_reply": "2024-03-12T21:06:46.538154Z",
     "shell.execute_reply.started": "2024-03-12T21:06:46.529524Z"
    }
   },
   "outputs": [
    {
     "data": {
      "text/plain": [
       "[-4636.078150000884,\n",
       " -4867.749500000835,\n",
       " -6002.92705000109,\n",
       " -5493.853800001097,\n",
       " -5699.413600001135,\n",
       " -2490.9348500005626,\n",
       " -2119.2477500004757,\n",
       " -2292.4975500006067,\n",
       " -2468.9524000006213,\n",
       " -2113.000650000483,\n",
       " -2853.7216000005765,\n",
       " -3163.586150000681,\n",
       " -832.314650000216,\n",
       " -582.8148500001222]"
      ]
     },
     "execution_count": 8,
     "metadata": {},
     "output_type": "execute_result"
    }
   ],
   "source": [
    "results"
   ]
  },
  {
   "cell_type": "code",
   "execution_count": null,
   "id": "116acf41-29fa-42fe-8c27-6f559c5c3ec3",
   "metadata": {},
   "outputs": [],
   "source": []
  },
  {
   "cell_type": "code",
   "execution_count": null,
   "id": "2db1ecea-5202-4c2c-ac84-cdc27aa5d0fd",
   "metadata": {},
   "outputs": [],
   "source": []
  },
  {
   "cell_type": "code",
   "execution_count": null,
   "id": "318398b8-2b28-4df8-9df2-429f544167cd",
   "metadata": {},
   "outputs": [],
   "source": []
  },
  {
   "cell_type": "code",
   "execution_count": null,
   "id": "022c1b7f-e39f-4d39-b542-b83f3b334c02",
   "metadata": {},
   "outputs": [],
   "source": []
  },
  {
   "cell_type": "code",
   "execution_count": null,
   "id": "20859247-9f27-45b7-842e-113901d328f7",
   "metadata": {},
   "outputs": [],
   "source": []
  },
  {
   "cell_type": "code",
   "execution_count": null,
   "id": "84ae8de4-aacd-41a2-b7f9-c9387f093721",
   "metadata": {},
   "outputs": [],
   "source": []
  },
  {
   "cell_type": "code",
   "execution_count": null,
   "id": "7991eba7-fac3-4ee0-920f-4264ce070336",
   "metadata": {},
   "outputs": [],
   "source": []
  },
  {
   "cell_type": "code",
   "execution_count": null,
   "id": "b4261a91-7d31-4940-af74-cee817ffcb3c",
   "metadata": {},
   "outputs": [],
   "source": []
  },
  {
   "cell_type": "code",
   "execution_count": null,
   "id": "d8d56000-e220-4ae4-a8c5-480125d4166b",
   "metadata": {},
   "outputs": [],
   "source": []
  },
  {
   "cell_type": "code",
   "execution_count": null,
   "id": "9e2e1ad2-e9df-405a-b02b-9001d4474563",
   "metadata": {},
   "outputs": [],
   "source": []
  },
  {
   "cell_type": "code",
   "execution_count": null,
   "id": "6c1565c5-5a69-4932-a0a5-e0585daab557",
   "metadata": {},
   "outputs": [],
   "source": []
  },
  {
   "cell_type": "code",
   "execution_count": null,
   "id": "d8d98adf-1a32-45cb-b4a8-01b4add50f82",
   "metadata": {},
   "outputs": [],
   "source": []
  },
  {
   "cell_type": "code",
   "execution_count": null,
   "id": "f2dacb78-3930-4df3-ac89-0e7b8c348ce2",
   "metadata": {},
   "outputs": [],
   "source": []
  },
  {
   "cell_type": "code",
   "execution_count": null,
   "id": "2b84ffe6-620f-49d7-9933-da41f2121e1b",
   "metadata": {},
   "outputs": [],
   "source": []
  }
 ],
 "metadata": {
  "kernelspec": {
   "display_name": "rl_3.8",
   "language": "python",
   "name": "rl_3.8"
  },
  "language_info": {
   "codemirror_mode": {
    "name": "ipython",
    "version": 3
   },
   "file_extension": ".py",
   "mimetype": "text/x-python",
   "name": "python",
   "nbconvert_exporter": "python",
   "pygments_lexer": "ipython3",
   "version": "3.8.18"
  }
 },
 "nbformat": 4,
 "nbformat_minor": 5
}
