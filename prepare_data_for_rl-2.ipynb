{
 "cells": [
  {
   "cell_type": "code",
   "execution_count": 7,
   "id": "3d09058b-4104-49a3-a661-8d1d94d03df2",
   "metadata": {
    "execution": {
     "iopub.execute_input": "2024-03-10T13:09:39.578488Z",
     "iopub.status.busy": "2024-03-10T13:09:39.578301Z",
     "iopub.status.idle": "2024-03-10T13:09:39.580443Z",
     "shell.execute_reply": "2024-03-10T13:09:39.580170Z",
     "shell.execute_reply.started": "2024-03-10T13:09:39.578478Z"
    },
    "tags": []
   },
   "outputs": [],
   "source": [
    "import os\n",
    "from multiprocessing import Pool, cpu_count\n",
    "\n",
    "\n",
    "import numpy as np\n",
    "import pandas as pd\n",
    "\n",
    "import pickle\n",
    "from tqdm.notebook import tqdm\n",
    "\n",
    "import gc"
   ]
  },
  {
   "cell_type": "code",
   "execution_count": 8,
   "id": "7d658b88-900a-4531-b629-fb99d81bd54b",
   "metadata": {
    "execution": {
     "iopub.execute_input": "2024-03-10T13:09:40.610820Z",
     "iopub.status.busy": "2024-03-10T13:09:40.610589Z",
     "iopub.status.idle": "2024-03-10T13:09:40.612727Z",
     "shell.execute_reply": "2024-03-10T13:09:40.612495Z",
     "shell.execute_reply.started": "2024-03-10T13:09:40.610812Z"
    }
   },
   "outputs": [
    {
     "data": {
      "text/plain": [
       "'/home/roman/JupyterLab/otus_rl/project/data/BTCUSDT/'"
      ]
     },
     "execution_count": 8,
     "metadata": {},
     "output_type": "execute_result"
    }
   ],
   "source": [
    "path_to_market_data = os.getcwd() + \"/BTCUSDT/\"\n",
    "path_to_market_data"
   ]
  },
  {
   "cell_type": "code",
   "execution_count": 9,
   "id": "9efd2746-3cdf-4ab6-86b5-9359a017a4b1",
   "metadata": {
    "execution": {
     "iopub.execute_input": "2024-03-10T13:09:42.294279Z",
     "iopub.status.busy": "2024-03-10T13:09:42.294105Z",
     "iopub.status.idle": "2024-03-10T13:09:42.304028Z",
     "shell.execute_reply": "2024-03-10T13:09:42.303766Z",
     "shell.execute_reply.started": "2024-03-10T13:09:42.294270Z"
    },
    "tags": []
   },
   "outputs": [],
   "source": [
    "dt_list = [x[:-4] for x in os.listdir(os.getcwd() + \"/BTCUSDT/bid_ask\")]\n",
    "path_to_rl_data = \"/home/roman/JupyterLab/otus_rl/project/rl_data\""
   ]
  },
  {
   "cell_type": "code",
   "execution_count": 10,
   "id": "7cfeb823-a872-4139-a100-eb034dcefad6",
   "metadata": {
    "execution": {
     "iopub.execute_input": "2024-03-10T13:09:42.965748Z",
     "iopub.status.busy": "2024-03-10T13:09:42.965565Z",
     "iopub.status.idle": "2024-03-10T13:09:42.967582Z",
     "shell.execute_reply": "2024-03-10T13:09:42.967348Z",
     "shell.execute_reply.started": "2024-03-10T13:09:42.965734Z"
    },
    "tags": []
   },
   "outputs": [
    {
     "name": "stdout",
     "output_type": "stream",
     "text": [
      "['2024-01-08', '2024-01-09', '2024-01-10', '2024-01-11', '2024-01-12', '2024-01-13', '2024-01-14', '2024-01-15', '2024-01-16', '2024-01-17', '2024-01-18', '2024-01-19', '2024-01-20', '2024-01-21']\n"
     ]
    }
   ],
   "source": [
    "dt_list = sorted(dt_list)\n",
    "print(dt_list)"
   ]
  },
  {
   "cell_type": "code",
   "execution_count": 11,
   "id": "223a525b-a257-40f0-aa04-ba723bf867a2",
   "metadata": {
    "execution": {
     "iopub.execute_input": "2024-03-10T13:09:44.401294Z",
     "iopub.status.busy": "2024-03-10T13:09:44.401121Z",
     "iopub.status.idle": "2024-03-10T13:09:44.403124Z",
     "shell.execute_reply": "2024-03-10T13:09:44.402881Z",
     "shell.execute_reply.started": "2024-03-10T13:09:44.401287Z"
    }
   },
   "outputs": [],
   "source": [
    "def process_period(period):\n",
    "    period_start, period_end = period\n",
    "    subset = lt[(lt[\"tradeTime\"] >= period_start) & (lt[\"tradeTime\"] < period_end)].to_dict(\"records\")\n",
    "    return (period_start, period_end), subset\n",
    "\n",
    "# Function to initialize the DataFrame in each worker process\n",
    "def init_worker(lt_df):\n",
    "    global lt\n",
    "    lt = lt_df"
   ]
  },
  {
   "cell_type": "code",
   "execution_count": 13,
   "id": "23acdff4-3f7a-47a6-af59-86e3032ef321",
   "metadata": {
    "execution": {
     "iopub.execute_input": "2024-03-10T14:37:53.335339Z",
     "iopub.status.busy": "2024-03-10T14:37:53.335167Z",
     "iopub.status.idle": "2024-03-10T14:57:18.091632Z",
     "shell.execute_reply": "2024-03-10T14:57:18.091337Z",
     "shell.execute_reply.started": "2024-03-10T14:37:53.335329Z"
    }
   },
   "outputs": [
    {
     "data": {
      "application/vnd.jupyter.widget-view+json": {
       "model_id": "87c7a8372051419da202ba6afb7ae3d8",
       "version_major": 2,
       "version_minor": 0
      },
      "text/plain": [
       "  0%|          | 0/1 [00:00<?, ?it/s]"
      ]
     },
     "metadata": {},
     "output_type": "display_data"
    },
    {
     "data": {
      "application/vnd.jupyter.widget-view+json": {
       "model_id": "1f26b145a9744a379d8ed5ec9c517e74",
       "version_major": 2,
       "version_minor": 0
      },
      "text/plain": [
       "  0%|          | 0/132750 [00:00<?, ?it/s]"
      ]
     },
     "metadata": {},
     "output_type": "display_data"
    }
   ],
   "source": [
    "for dt in tqdm([\"2024-01-08\"]):\n",
    "    # read ba data\n",
    "    ba = pd.read_csv(path_to_market_data + f\"bid_ask/{dt}.csv\")\n",
    "    ba = ba.sort_values(\"update_id\")\n",
    "\n",
    "    # create periods from bid_ask\n",
    "    period_starts = ba[\"received_time\"][::50].values\n",
    "    period_ends = period_starts[1:]\n",
    "    \n",
    "    period_starts_n = ba.index.to_list()[::50]\n",
    "    period_ends_n = period_starts_n[1:]\n",
    "    \n",
    "    periods = list(zip(period_starts[:-1], period_ends))\n",
    "    periods_n = list(zip(period_starts_n[:-1], period_ends_n))\n",
    "    \n",
    "    periods_map = dict(zip(periods_n, periods))\n",
    "    # convert dataframe to list\n",
    "    ba_list = ba.to_dict(\"records\")\n",
    "    del ba\n",
    "    gc.collect()\n",
    "    # store bid ask data in a dict\n",
    "    ba_data_dict = {}\n",
    "    for (period_start_n, period_end_n), (period_start, period_end) in periods_map.items():\n",
    "        ba_data_dict[(period_start, period_end)] = ba_list[period_start_n:period_end_n]\n",
    "    # save bid ask data\n",
    "    with open(f\"{path_to_rl_data}/bid_ask/{dt}.pickle\", 'wb') as file:\n",
    "        pickle.dump(ba_data_dict, file)\n",
    "    del ba_data_dict\n",
    "    gc.collect()\n",
    "    # read trades data\n",
    "    lt = pd.read_csv(path_to_market_data + f\"last_trade/{dt}.csv\")\n",
    "    lt = lt.sort_values(\"tradeid\")\n",
    "    lt = lt.drop([\"received_time\", \"event_time\", \"symbol\", \"buyerOrderId\", \"sellerOrderId\", \"ignore\"], axis=1)\n",
    "    # store trades data in a dict\n",
    "    lt_df = lt\n",
    "    with Pool(processes=18, initializer=init_worker, initargs=(lt_df,)) as pool:\n",
    "        results = list(tqdm(pool.imap(process_period, periods), total=len(periods)))    \n",
    "    lt_data_dict = dict(results)\n",
    "    del lt\n",
    "    gc.collect()\n",
    "    # save trades data\n",
    "    with open(f\"{path_to_rl_data}/last_trade/{dt}.pickle\", 'wb') as file:\n",
    "        pickle.dump(lt_data_dict, file)\n",
    "    del lt_data_dict\n",
    "    gc.collect()"
   ]
  },
  {
   "cell_type": "code",
   "execution_count": null,
   "id": "1439ec7f-bde5-4a24-a788-7737f1b21ba3",
   "metadata": {},
   "outputs": [],
   "source": []
  },
  {
   "cell_type": "code",
   "execution_count": null,
   "id": "71afc465-5a3c-4d86-a376-f28910e930a9",
   "metadata": {},
   "outputs": [],
   "source": []
  },
  {
   "cell_type": "code",
   "execution_count": null,
   "id": "683c5850-d6ef-4d2d-b853-c304abb221e6",
   "metadata": {},
   "outputs": [],
   "source": []
  },
  {
   "cell_type": "code",
   "execution_count": null,
   "id": "eab7832a-f4f8-4eba-b2f6-4e72ded2387f",
   "metadata": {},
   "outputs": [],
   "source": []
  },
  {
   "cell_type": "code",
   "execution_count": null,
   "id": "78d689c9-7e6e-401f-bc2b-12969748465a",
   "metadata": {},
   "outputs": [],
   "source": []
  },
  {
   "cell_type": "code",
   "execution_count": null,
   "id": "6c0252dd-63ae-4461-a70d-530f9597c32b",
   "metadata": {},
   "outputs": [],
   "source": []
  },
  {
   "cell_type": "code",
   "execution_count": null,
   "id": "6db93b89-3138-4c8d-ba59-9789724cc986",
   "metadata": {},
   "outputs": [],
   "source": []
  },
  {
   "cell_type": "code",
   "execution_count": null,
   "id": "52d00633-cf8b-476c-a797-b292de52f55b",
   "metadata": {},
   "outputs": [],
   "source": []
  },
  {
   "cell_type": "code",
   "execution_count": null,
   "id": "6c56212b-92e1-46a3-9468-92761a00318f",
   "metadata": {},
   "outputs": [],
   "source": []
  },
  {
   "cell_type": "code",
   "execution_count": null,
   "id": "bc6c1385-8617-4f5d-9607-826bf196529d",
   "metadata": {},
   "outputs": [],
   "source": []
  },
  {
   "cell_type": "code",
   "execution_count": null,
   "id": "0a54981d-b594-41c8-b488-86d569e6a29e",
   "metadata": {},
   "outputs": [],
   "source": []
  },
  {
   "cell_type": "code",
   "execution_count": null,
   "id": "f015e70e-0966-42a0-b9b2-4262082bbd88",
   "metadata": {},
   "outputs": [],
   "source": []
  },
  {
   "cell_type": "code",
   "execution_count": null,
   "id": "2890c151-aae1-4191-a330-d1e1db7a98d2",
   "metadata": {},
   "outputs": [],
   "source": []
  },
  {
   "cell_type": "code",
   "execution_count": null,
   "id": "b19bac70-c7af-4360-bfef-aafb5f520c92",
   "metadata": {},
   "outputs": [],
   "source": []
  },
  {
   "cell_type": "code",
   "execution_count": null,
   "id": "7cfa1442-ca5c-4daf-9cfb-cf254667afa8",
   "metadata": {},
   "outputs": [],
   "source": []
  },
  {
   "cell_type": "code",
   "execution_count": null,
   "id": "126e453f-9bb6-4274-86c5-18d5151e0b58",
   "metadata": {},
   "outputs": [],
   "source": []
  },
  {
   "cell_type": "code",
   "execution_count": null,
   "id": "6d4ee0e3-4dab-42a9-a048-84829a8b2caa",
   "metadata": {},
   "outputs": [],
   "source": []
  },
  {
   "cell_type": "code",
   "execution_count": null,
   "id": "0b1a011b-6b9b-4728-b891-8590aee8d72b",
   "metadata": {},
   "outputs": [],
   "source": []
  },
  {
   "cell_type": "code",
   "execution_count": null,
   "id": "213ad5ad-711b-4c87-84fa-907d51ea0482",
   "metadata": {},
   "outputs": [],
   "source": []
  },
  {
   "cell_type": "code",
   "execution_count": null,
   "id": "e3e73ed8-7d50-480c-be8f-5dd23ab805a3",
   "metadata": {},
   "outputs": [],
   "source": []
  },
  {
   "cell_type": "code",
   "execution_count": null,
   "id": "e59bf891-a5b8-4a38-b4e7-ceb2767c6049",
   "metadata": {},
   "outputs": [],
   "source": []
  },
  {
   "cell_type": "code",
   "execution_count": null,
   "id": "45a38506-de08-4c65-8e2a-a389fa7fea75",
   "metadata": {},
   "outputs": [],
   "source": []
  },
  {
   "cell_type": "code",
   "execution_count": null,
   "id": "5ce2f0f9-fb8b-4fae-bf97-eac3b2949734",
   "metadata": {},
   "outputs": [],
   "source": []
  },
  {
   "cell_type": "code",
   "execution_count": null,
   "id": "79416840-6bfb-420b-a5f1-1a431ad09b3c",
   "metadata": {
    "execution": {
     "execution_failed": "2024-03-05T19:43:38.342Z",
     "iopub.execute_input": "2024-03-05T19:29:51.653980Z",
     "iopub.status.busy": "2024-03-05T19:29:51.653812Z"
    },
    "tags": []
   },
   "outputs": [
    {
     "name": "stderr",
     "output_type": "stream",
     "text": [
      "/tmp/ipykernel_3254416/3118045633.py:1: TqdmDeprecationWarning: This function will be removed in tqdm==5.0.0\n",
      "Please use `tqdm.notebook.tqdm` instead of `tqdm.tqdm_notebook`\n",
      "  for dt in tqdm_notebook(dt_list):\n"
     ]
    },
    {
     "data": {
      "application/vnd.jupyter.widget-view+json": {
       "model_id": "303b93d1610a455bae2e557d8ab70b90",
       "version_major": 2,
       "version_minor": 0
      },
      "text/plain": [
       "  0%|          | 0/14 [00:00<?, ?it/s]"
      ]
     },
     "metadata": {},
     "output_type": "display_data"
    }
   ],
   "source": [
    "for dt in tqdm_notebook(dt_list):\n",
    "    ba = pd.read_csv(f\"{path_to_market_data}/bid_ask/{dt}.csv\")\n",
    "    ba.drop([\"symbol\"], axis=1, inplace=True)\n",
    "    ba = ba.sort_values(\"update_id\")\n",
    "    ba[\"received_time\"] = pd.to_datetime(ba[\"received_time\"])\n",
    "    ba = ba.T.to_dict()\n",
    "\n",
    "    bid_ask_rl_path = os.path.join(path_to_rl_data, \"bid_ask\")\n",
    "    if not os.path.exists(bid_ask_rl_path):\n",
    "        os.mkdir(bid_ask_rl_path)\n",
    "    with open(os.path.join(bid_ask_rl_path, f\"{dt}.pickle\"), 'wb') as handle:\n",
    "        pickle.dump(ba, handle, protocol=pickle.HIGHEST_PROTOCOL)\n",
    "\n",
    "    lt = pd.read_csv(f\"{path_to_market_data}/last_trade/{dt}.csv\")\n",
    "    lt.drop([\"symbol\", \"buyerOrderId\", \"sellerOrderId\", \"ignore\"], axis=1, inplace=True)\n",
    "    lt[\"received_time\"] = pd.to_datetime(lt[\"received_time\"])\n",
    "    lt[\"event_time\"] = pd.to_datetime(lt[\"event_time\"])\n",
    "    lt[\"tradeTime\"] = pd.to_datetime(lt[\"tradeTime\"])\n",
    "    lt = lt.sort_values(\"tradeid\")\n",
    "    lt = lt.T.to_dict()\n",
    "\n",
    "    last_trade_rl_path = os.path.join(path_to_rl_data, \"last_trade\")\n",
    "    if not os.path.exists(last_trade_rl_path):\n",
    "        os.mkdir(last_trade_rl_path)\n",
    "    with open(os.path.join(last_trade_rl_path, f\"{dt}.pickle\"), 'wb') as handle:\n",
    "        pickle.dump(lt, handle, protocol=pickle.HIGHEST_PROTOCOL)"
   ]
  },
  {
   "cell_type": "code",
   "execution_count": null,
   "id": "f055333c-1ab7-4526-9927-19c209f18215",
   "metadata": {},
   "outputs": [],
   "source": []
  },
  {
   "cell_type": "code",
   "execution_count": null,
   "id": "d373e876-952c-4755-a558-b014fb9cb5ed",
   "metadata": {},
   "outputs": [],
   "source": []
  },
  {
   "cell_type": "code",
   "execution_count": null,
   "id": "b29e9308-672f-4eb4-ab30-89c4f43cb198",
   "metadata": {},
   "outputs": [],
   "source": []
  },
  {
   "cell_type": "code",
   "execution_count": null,
   "id": "d0e08746-4066-4483-800c-099b0fe3437e",
   "metadata": {},
   "outputs": [],
   "source": []
  },
  {
   "cell_type": "code",
   "execution_count": null,
   "id": "ebbec954-a31f-4e67-be01-adc03545b70f",
   "metadata": {},
   "outputs": [],
   "source": []
  },
  {
   "cell_type": "code",
   "execution_count": null,
   "id": "d3823a44-5fc6-4ada-951b-de553f0a6af1",
   "metadata": {},
   "outputs": [],
   "source": []
  },
  {
   "cell_type": "code",
   "execution_count": null,
   "id": "0f84f9dc-a49b-4c52-8186-f81e460c3a57",
   "metadata": {},
   "outputs": [],
   "source": []
  },
  {
   "cell_type": "code",
   "execution_count": null,
   "id": "0601179c-7457-4c1c-8336-16e84e8c31f4",
   "metadata": {},
   "outputs": [],
   "source": []
  },
  {
   "cell_type": "code",
   "execution_count": null,
   "id": "7374a8fb-3f53-4dee-829b-71c6d61b804f",
   "metadata": {},
   "outputs": [],
   "source": []
  },
  {
   "cell_type": "code",
   "execution_count": null,
   "id": "c0ce2089-50cc-4cd7-9cec-25d1c40dcb59",
   "metadata": {},
   "outputs": [],
   "source": []
  }
 ],
 "metadata": {
  "kernelspec": {
   "display_name": "rl_3.8",
   "language": "python",
   "name": "rl_3.8"
  },
  "language_info": {
   "codemirror_mode": {
    "name": "ipython",
    "version": 3
   },
   "file_extension": ".py",
   "mimetype": "text/x-python",
   "name": "python",
   "nbconvert_exporter": "python",
   "pygments_lexer": "ipython3",
   "version": "3.8.18"
  }
 },
 "nbformat": 4,
 "nbformat_minor": 5
}
