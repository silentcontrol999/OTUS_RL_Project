{
 "cells": [
  {
   "cell_type": "code",
   "execution_count": 1,
   "id": "576140c4-bcdf-47fd-953e-18ce94ecee45",
   "metadata": {
    "execution": {
     "iopub.execute_input": "2024-03-11T19:25:49.719600Z",
     "iopub.status.busy": "2024-03-11T19:25:49.719532Z",
     "iopub.status.idle": "2024-03-11T19:25:49.727013Z",
     "shell.execute_reply": "2024-03-11T19:25:49.726582Z",
     "shell.execute_reply.started": "2024-03-11T19:25:49.719592Z"
    }
   },
   "outputs": [],
   "source": [
    "%load_ext autoreload\n",
    "%autoreload 2"
   ]
  },
  {
   "cell_type": "code",
   "execution_count": 2,
   "id": "d6e660de-b44c-4bdc-8554-724b7bbc41b1",
   "metadata": {
    "execution": {
     "iopub.execute_input": "2024-03-11T19:25:49.727485Z",
     "iopub.status.busy": "2024-03-11T19:25:49.727414Z",
     "iopub.status.idle": "2024-03-11T19:25:49.986635Z",
     "shell.execute_reply": "2024-03-11T19:25:49.986405Z",
     "shell.execute_reply.started": "2024-03-11T19:25:49.727478Z"
    }
   },
   "outputs": [],
   "source": [
    "import sys\n",
    "import os\n",
    "import pickle\n",
    "\n",
    "import numpy as np\n",
    "import pandas as pd\n",
    "\n",
    "import matplotlib.pyplot as plt"
   ]
  },
  {
   "cell_type": "code",
   "execution_count": 97,
   "id": "9a4f084b-dd81-4967-98ae-c2261ff2d6e7",
   "metadata": {
    "execution": {
     "iopub.execute_input": "2024-03-12T15:39:14.168125Z",
     "iopub.status.busy": "2024-03-12T15:39:14.167937Z",
     "iopub.status.idle": "2024-03-12T15:39:14.407635Z",
     "shell.execute_reply": "2024-03-12T15:39:14.407399Z",
     "shell.execute_reply.started": "2024-03-12T15:39:14.168117Z"
    }
   },
   "outputs": [],
   "source": [
    "sys.path.append(\"../environment\")\n",
    "sys.path.append(\"../agent/\")\n",
    "\n",
    "from market_env import HFTMarketEnvironment\n",
    "from baseline_agent import FixedOffsetMMAgent\n",
    "from deep_q_agent import DQLAgent"
   ]
  },
  {
   "cell_type": "code",
   "execution_count": 4,
   "id": "9aa17773-767f-4750-9694-4b087288d148",
   "metadata": {
    "execution": {
     "iopub.execute_input": "2024-03-11T19:25:50.225299Z",
     "iopub.status.busy": "2024-03-11T19:25:50.225157Z",
     "iopub.status.idle": "2024-03-11T19:25:50.230131Z",
     "shell.execute_reply": "2024-03-11T19:25:50.229879Z",
     "shell.execute_reply.started": "2024-03-11T19:25:50.225292Z"
    }
   },
   "outputs": [],
   "source": [
    "def read_rl_data(date):\n",
    "    data_path = \"../rl_data\"\n",
    "    with open(f\"{data_path}/bid_ask/{date}.pickle\", 'rb') as f:\n",
    "        ba = pickle.load(f)\n",
    "    with open(f\"{data_path}/last_trade/{date}.pickle\", 'rb') as f:\n",
    "        lt = pickle.load(f)\n",
    "    return ba, lt"
   ]
  },
  {
   "cell_type": "markdown",
   "id": "52d84874-0958-4023-b3b3-7fd91cf8de52",
   "metadata": {},
   "source": [
    "# Data"
   ]
  },
  {
   "cell_type": "code",
   "execution_count": 5,
   "id": "d32b3482-282b-43ce-86d3-bca5c4287339",
   "metadata": {
    "execution": {
     "iopub.execute_input": "2024-03-11T19:25:50.736904Z",
     "iopub.status.busy": "2024-03-11T19:25:50.736826Z",
     "iopub.status.idle": "2024-03-11T19:25:54.042330Z",
     "shell.execute_reply": "2024-03-11T19:25:54.042000Z",
     "shell.execute_reply.started": "2024-03-11T19:25:50.736897Z"
    }
   },
   "outputs": [],
   "source": [
    "ba, lt = read_rl_data(\"2024-01-08\")"
   ]
  },
  {
   "cell_type": "markdown",
   "id": "7112ebba-558b-483e-a762-e9da4f72595d",
   "metadata": {},
   "source": [
    "# Environment"
   ]
  },
  {
   "cell_type": "code",
   "execution_count": 78,
   "id": "2a1ebeda-7311-4033-a9dd-1e4e87bfecfd",
   "metadata": {
    "execution": {
     "iopub.execute_input": "2024-03-12T09:49:58.629242Z",
     "iopub.status.busy": "2024-03-12T09:49:58.629086Z",
     "iopub.status.idle": "2024-03-12T09:49:58.634549Z",
     "shell.execute_reply": "2024-03-12T09:49:58.634291Z",
     "shell.execute_reply.started": "2024-03-12T09:49:58.629234Z"
    }
   },
   "outputs": [],
   "source": [
    "params = {\n",
    "    \"bid_ask\": ba,\n",
    "    \"trades\": lt,\n",
    "    \"balance\": {\"BTC\": 0, \"FDUSD\": 10000},\n",
    "    \"cancel_frequency\": 10\n",
    "}\n",
    "\n",
    "env = HFTMarketEnvironment(params)"
   ]
  },
  {
   "cell_type": "markdown",
   "id": "4a303173-27b4-4965-b4d2-5e3a835d98e3",
   "metadata": {},
   "source": [
    "# Fixed Offset Agent"
   ]
  },
  {
   "cell_type": "code",
   "execution_count": 79,
   "id": "62684dec-34e4-464a-b4c0-474b4524b0cc",
   "metadata": {
    "execution": {
     "iopub.execute_input": "2024-03-12T09:49:59.122237Z",
     "iopub.status.busy": "2024-03-12T09:49:59.122090Z",
     "iopub.status.idle": "2024-03-12T09:49:59.127140Z",
     "shell.execute_reply": "2024-03-12T09:49:59.126881Z",
     "shell.execute_reply.started": "2024-03-12T09:49:59.122229Z"
    }
   },
   "outputs": [],
   "source": [
    "agent = FixedOffsetMMAgent(quantity=0.005, price_delta=0)"
   ]
  },
  {
   "cell_type": "code",
   "execution_count": 80,
   "id": "7d2491e7-5623-4f3b-bcbd-064243dcb87e",
   "metadata": {
    "execution": {
     "iopub.execute_input": "2024-03-12T09:49:59.446880Z",
     "iopub.status.busy": "2024-03-12T09:49:59.446744Z",
     "iopub.status.idle": "2024-03-12T09:50:39.580163Z",
     "shell.execute_reply": "2024-03-12T09:50:39.579838Z",
     "shell.execute_reply.started": "2024-03-12T09:49:59.446873Z"
    }
   },
   "outputs": [],
   "source": [
    "rewards = agent.exploit(env)"
   ]
  },
  {
   "cell_type": "code",
   "execution_count": 81,
   "id": "18f712fb-1a71-4464-a604-dd67bd85a707",
   "metadata": {
    "execution": {
     "iopub.execute_input": "2024-03-12T09:50:39.580707Z",
     "iopub.status.busy": "2024-03-12T09:50:39.580629Z",
     "iopub.status.idle": "2024-03-12T09:50:39.586271Z",
     "shell.execute_reply": "2024-03-12T09:50:39.586032Z",
     "shell.execute_reply.started": "2024-03-12T09:50:39.580700Z"
    }
   },
   "outputs": [
    {
     "data": {
      "text/plain": [
       "-3204.9516499996944"
      ]
     },
     "execution_count": 81,
     "metadata": {},
     "output_type": "execute_result"
    }
   ],
   "source": [
    "rewards"
   ]
  },
  {
   "cell_type": "markdown",
   "id": "0d69c281-d59c-4e15-b4c3-e6b3fd0e3429",
   "metadata": {},
   "source": [
    "# Rewards (pnl)"
   ]
  },
  {
   "cell_type": "code",
   "execution_count": 68,
   "id": "23ee22fd-4feb-4d78-a92b-f6ba2902f727",
   "metadata": {
    "execution": {
     "iopub.execute_input": "2024-03-12T09:25:47.232726Z",
     "iopub.status.busy": "2024-03-12T09:25:47.232524Z",
     "iopub.status.idle": "2024-03-12T09:25:47.339881Z",
     "shell.execute_reply": "2024-03-12T09:25:47.339642Z",
     "shell.execute_reply.started": "2024-03-12T09:25:47.232714Z"
    }
   },
   "outputs": [],
   "source": [
    "pnl_df = pd.DataFrame(env.pnl)\n",
    "pnl_df[\"realized_pnl_cum\"] = pnl_df[\"realized_pnl\"].cumsum()"
   ]
  },
  {
   "cell_type": "code",
   "execution_count": 73,
   "id": "a0b14765-f24e-48e4-8a20-547bf067fb77",
   "metadata": {
    "execution": {
     "iopub.execute_input": "2024-03-12T09:47:13.249959Z",
     "iopub.status.busy": "2024-03-12T09:47:13.249784Z",
     "iopub.status.idle": "2024-03-12T09:47:13.374594Z",
     "shell.execute_reply": "2024-03-12T09:47:13.374383Z",
     "shell.execute_reply.started": "2024-03-12T09:47:13.249950Z"
    }
   },
   "outputs": [
    {
     "data": {
      "text/plain": [
       "<Axes: >"
      ]
     },
     "execution_count": 73,
     "metadata": {},
     "output_type": "execute_result"
    },
    {
     "data": {
      "image/png": "[encoded data removed]",
      "text/plain": [
       "<Figure size 640x480 with 1 Axes>"
      ]
     },
     "metadata": {},
     "output_type": "display_data"
    }
   ],
   "source": [
    "pnl_df[\"inventory\"].plot()"
   ]
  },
  {
   "cell_type": "code",
   "execution_count": 74,
   "id": "5b6874a5-7d13-4604-9d1f-54b64d121ba0",
   "metadata": {
    "execution": {
     "iopub.execute_input": "2024-03-12T09:47:14.682387Z",
     "iopub.status.busy": "2024-03-12T09:47:14.682230Z",
     "iopub.status.idle": "2024-03-12T09:47:14.820465Z",
     "shell.execute_reply": "2024-03-12T09:47:14.820257Z",
     "shell.execute_reply.started": "2024-03-12T09:47:14.682378Z"
    }
   },
   "outputs": [
    {
     "data": {
      "text/plain": [
       "<Axes: >"
      ]
     },
     "execution_count": 74,
     "metadata": {},
     "output_type": "execute_result"
    },
    {
     "data": {
      "image/png": "[encoded data removed]",
      "text/plain": [
       "<Figure size 640x480 with 1 Axes>"
      ]
     },
     "metadata": {},
     "output_type": "display_data"
    }
   ],
   "source": [
    "pnl_df[\"cash_balance\"].plot()"
   ]
  },
  {
   "cell_type": "markdown",
   "id": "9921e218-f20c-4f2a-a365-f65180a07bca",
   "metadata": {},
   "source": [
    "# Deep q agent"
   ]
  },
  {
   "cell_type": "code",
   "execution_count": 186,
   "id": "bf6811ba-78df-4cb8-9be1-91bb537ae89b",
   "metadata": {
    "execution": {
     "iopub.execute_input": "2024-03-12T20:10:17.051216Z",
     "iopub.status.busy": "2024-03-12T20:10:17.051049Z",
     "iopub.status.idle": "2024-03-12T20:10:17.060006Z",
     "shell.execute_reply": "2024-03-12T20:10:17.059788Z",
     "shell.execute_reply.started": "2024-03-12T20:10:17.051207Z"
    }
   },
   "outputs": [],
   "source": [
    "params = {\n",
    "    \"bid_ask\": ba,\n",
    "    \"trades\": lt,\n",
    "    \"balance\": {\"BTC\": 0, \"FDUSD\": 10000},\n",
    "    \"cancel_frequency\": 10\n",
    "}\n",
    "\n",
    "env = HFTMarketEnvironment(params)"
   ]
  },
  {
   "cell_type": "code",
   "execution_count": 189,
   "id": "f09335ae-a3f1-49d4-9d3c-8094ef96a49e",
   "metadata": {
    "execution": {
     "iopub.execute_input": "2024-03-12T20:10:28.952962Z",
     "iopub.status.busy": "2024-03-12T20:10:28.952783Z",
     "iopub.status.idle": "2024-03-12T20:10:28.964779Z",
     "shell.execute_reply": "2024-03-12T20:10:28.964552Z",
     "shell.execute_reply.started": "2024-03-12T20:10:28.952953Z"
    }
   },
   "outputs": [],
   "source": [
    "dql_agent = DQLAgent(\n",
    "    state_dim=39, \n",
    "    lr=5e-4,\n",
    "    gamma=0.99,\n",
    "    epsilon=1.0,\n",
    "    epsilon_decay=0.999,\n",
    "    epsilon_min=0.01,\n",
    "    batch_size=256,\n",
    "    memory_size=10000\n",
    ")"
   ]
  },
  {
   "cell_type": "code",
   "execution_count": 190,
   "id": "a9a33d20-e6e1-4dd6-929d-c74b64838c43",
   "metadata": {
    "execution": {
     "iopub.execute_input": "2024-03-12T20:10:29.438295Z",
     "iopub.status.busy": "2024-03-12T20:10:29.438118Z",
     "iopub.status.idle": "2024-03-12T20:15:26.248813Z",
     "shell.execute_reply": "2024-03-12T20:15:26.248599Z",
     "shell.execute_reply.started": "2024-03-12T20:10:29.438287Z"
    }
   },
   "outputs": [
    {
     "data": {
      "application/vnd.jupyter.widget-view+json": {
       "model_id": "e6e7be06a34a42189e7094ea31f6b9ba",
       "version_major": 2,
       "version_minor": 0
      },
      "text/plain": [
       "  0%|          | 0/1 [00:00<?, ?it/s]"
      ]
     },
     "metadata": {},
     "output_type": "display_data"
    },
    {
     "name": "stdout",
     "output_type": "stream",
     "text": [
      "Episode: 1/1, Total Reward: -3135.84629999995\n"
     ]
    }
   ],
   "source": [
    "train_rewards = dql_agent.train(env, num_episodes=1)"
   ]
  },
  {
   "cell_type": "code",
   "execution_count": 191,
   "id": "6d8df062-1266-456a-a7d9-9a3bc913c357",
   "metadata": {
    "execution": {
     "iopub.execute_input": "2024-03-12T20:15:29.153279Z",
     "iopub.status.busy": "2024-03-12T20:15:29.153097Z",
     "iopub.status.idle": "2024-03-12T20:21:04.228487Z",
     "shell.execute_reply": "2024-03-12T20:21:04.228080Z",
     "shell.execute_reply.started": "2024-03-12T20:15:29.153270Z"
    }
   },
   "outputs": [
    {
     "data": {
      "application/vnd.jupyter.widget-view+json": {
       "model_id": "bb1b38c1a22d4c709e709049664ebde2",
       "version_major": 2,
       "version_minor": 0
      },
      "text/plain": [
       "  0%|          | 0/10 [00:00<?, ?it/s]"
      ]
     },
     "metadata": {},
     "output_type": "display_data"
    },
    {
     "name": "stdout",
     "output_type": "stream",
     "text": [
      "Exploit Episode: 1/10, Total Reward: 0\n",
      "Exploit Episode: 2/10, Total Reward: 0\n"
     ]
    },
    {
     "ename": "KeyboardInterrupt",
     "evalue": "",
     "output_type": "error",
     "traceback": [
      "\u001b[0;31m---------------------------------------------------------------------------\u001b[0m",
      "\u001b[0;31mKeyboardInterrupt\u001b[0m                         Traceback (most recent call last)",
      "Cell \u001b[0;32mIn[191], line 1\u001b[0m\n\u001b[0;32m----> 1\u001b[0m exploit_rewards \u001b[38;5;241m=\u001b[39m \u001b[43mdql_agent\u001b[49m\u001b[38;5;241;43m.\u001b[39;49m\u001b[43mexploit\u001b[49m\u001b[43m(\u001b[49m\u001b[43menv\u001b[49m\u001b[43m,\u001b[49m\u001b[43m \u001b[49m\u001b[43mnum_episodes\u001b[49m\u001b[38;5;241;43m=\u001b[39;49m\u001b[38;5;241;43m10\u001b[39;49m\u001b[43m)\u001b[49m\n",
      "File \u001b[0;32m~/JupyterLab/otus_rl/project/nbs/../agent/deep_q_agent.py:232\u001b[0m, in \u001b[0;36mDQLAgent.exploit\u001b[0;34m(self, env, num_episodes)\u001b[0m\n\u001b[1;32m    230\u001b[0m     next_raw_state, done \u001b[38;5;241m=\u001b[39m env\u001b[38;5;241m.\u001b[39mstep(decoded_action)\n\u001b[1;32m    231\u001b[0m     reward \u001b[38;5;241m=\u001b[39m \u001b[38;5;28mself\u001b[39m\u001b[38;5;241m.\u001b[39mget_reward(raw_state)\n\u001b[0;32m--> 232\u001b[0m     next_state \u001b[38;5;241m=\u001b[39m \u001b[43mextract_features\u001b[49m\u001b[43m(\u001b[49m\u001b[43mnext_raw_state\u001b[49m\u001b[43m)\u001b[49m\n\u001b[1;32m    234\u001b[0m     total_reward \u001b[38;5;241m+\u001b[39m\u001b[38;5;241m=\u001b[39m reward\n\u001b[1;32m    235\u001b[0m total_rewards\u001b[38;5;241m.\u001b[39mappend(total_reward)\n",
      "File \u001b[0;32m~/JupyterLab/otus_rl/project/nbs/../agent/deep_q_agent.py:42\u001b[0m, in \u001b[0;36mextract_features\u001b[0;34m(state)\u001b[0m\n\u001b[1;32m     39\u001b[0m trade_price_returns_std \u001b[38;5;241m=\u001b[39m np\u001b[38;5;241m.\u001b[39mstd(trade_price_returns)\n\u001b[1;32m     41\u001b[0m \u001b[38;5;66;03m# percentiles for price returns and quantities\u001b[39;00m\n\u001b[0;32m---> 42\u001b[0m bid_price_returns_percentiles \u001b[38;5;241m=\u001b[39m \u001b[43mcalculate_percentiles\u001b[49m\u001b[43m(\u001b[49m\u001b[43mbid_price_returns\u001b[49m\u001b[43m)\u001b[49m\n\u001b[1;32m     43\u001b[0m ask_price_returns_percentiles \u001b[38;5;241m=\u001b[39m calculate_percentiles(ask_price_returns)\n\u001b[1;32m     44\u001b[0m trade_price_returns_percentiles \u001b[38;5;241m=\u001b[39m calculate_percentiles(trade_price_returns)\n",
      "File \u001b[0;32m~/JupyterLab/otus_rl/project/nbs/../agent/deep_q_agent.py:22\u001b[0m, in \u001b[0;36mcalculate_percentiles\u001b[0;34m(data, percentiles)\u001b[0m\n\u001b[1;32m     20\u001b[0m \u001b[38;5;28;01mif\u001b[39;00m \u001b[38;5;28mlen\u001b[39m(data) \u001b[38;5;241m==\u001b[39m \u001b[38;5;241m0\u001b[39m:\n\u001b[1;32m     21\u001b[0m     \u001b[38;5;28;01mreturn\u001b[39;00m np\u001b[38;5;241m.\u001b[39mzeros(\u001b[38;5;28mlen\u001b[39m(percentiles))\n\u001b[0;32m---> 22\u001b[0m data_percentiles \u001b[38;5;241m=\u001b[39m \u001b[43mnp\u001b[49m\u001b[38;5;241;43m.\u001b[39;49m\u001b[43mpercentile\u001b[49m\u001b[43m(\u001b[49m\u001b[43mdata\u001b[49m\u001b[43m,\u001b[49m\u001b[43m \u001b[49m\u001b[43mpercentiles\u001b[49m\u001b[43m)\u001b[49m\n\u001b[1;32m     23\u001b[0m \u001b[38;5;28;01mreturn\u001b[39;00m data_percentiles\n",
      "File \u001b[0;32m<__array_function__ internals>:200\u001b[0m, in \u001b[0;36mpercentile\u001b[0;34m(*args, **kwargs)\u001b[0m\n",
      "File \u001b[0;32m~/miniconda3/envs/rl/lib/python3.8/site-packages/numpy/lib/function_base.py:4205\u001b[0m, in \u001b[0;36mpercentile\u001b[0;34m(a, q, axis, out, overwrite_input, method, keepdims, interpolation)\u001b[0m\n\u001b[1;32m   4203\u001b[0m \u001b[38;5;28;01mif\u001b[39;00m \u001b[38;5;129;01mnot\u001b[39;00m _quantile_is_valid(q):\n\u001b[1;32m   4204\u001b[0m     \u001b[38;5;28;01mraise\u001b[39;00m \u001b[38;5;167;01mValueError\u001b[39;00m(\u001b[38;5;124m\"\u001b[39m\u001b[38;5;124mPercentiles must be in the range [0, 100]\u001b[39m\u001b[38;5;124m\"\u001b[39m)\n\u001b[0;32m-> 4205\u001b[0m \u001b[38;5;28;01mreturn\u001b[39;00m \u001b[43m_quantile_unchecked\u001b[49m\u001b[43m(\u001b[49m\n\u001b[1;32m   4206\u001b[0m \u001b[43m    \u001b[49m\u001b[43ma\u001b[49m\u001b[43m,\u001b[49m\u001b[43m \u001b[49m\u001b[43mq\u001b[49m\u001b[43m,\u001b[49m\u001b[43m \u001b[49m\u001b[43maxis\u001b[49m\u001b[43m,\u001b[49m\u001b[43m \u001b[49m\u001b[43mout\u001b[49m\u001b[43m,\u001b[49m\u001b[43m \u001b[49m\u001b[43moverwrite_input\u001b[49m\u001b[43m,\u001b[49m\u001b[43m \u001b[49m\u001b[43mmethod\u001b[49m\u001b[43m,\u001b[49m\u001b[43m \u001b[49m\u001b[43mkeepdims\u001b[49m\u001b[43m)\u001b[49m\n",
      "File \u001b[0;32m~/miniconda3/envs/rl/lib/python3.8/site-packages/numpy/lib/function_base.py:4473\u001b[0m, in \u001b[0;36m_quantile_unchecked\u001b[0;34m(a, q, axis, out, overwrite_input, method, keepdims)\u001b[0m\n\u001b[1;32m   4465\u001b[0m \u001b[38;5;28;01mdef\u001b[39;00m \u001b[38;5;21m_quantile_unchecked\u001b[39m(a,\n\u001b[1;32m   4466\u001b[0m                         q,\n\u001b[1;32m   4467\u001b[0m                         axis\u001b[38;5;241m=\u001b[39m\u001b[38;5;28;01mNone\u001b[39;00m,\n\u001b[0;32m   (...)\u001b[0m\n\u001b[1;32m   4470\u001b[0m                         method\u001b[38;5;241m=\u001b[39m\u001b[38;5;124m\"\u001b[39m\u001b[38;5;124mlinear\u001b[39m\u001b[38;5;124m\"\u001b[39m,\n\u001b[1;32m   4471\u001b[0m                         keepdims\u001b[38;5;241m=\u001b[39m\u001b[38;5;28;01mFalse\u001b[39;00m):\n\u001b[1;32m   4472\u001b[0m \u001b[38;5;250m    \u001b[39m\u001b[38;5;124;03m\"\"\"Assumes that q is in [0, 1], and is an ndarray\"\"\"\u001b[39;00m\n\u001b[0;32m-> 4473\u001b[0m     \u001b[38;5;28;01mreturn\u001b[39;00m \u001b[43m_ureduce\u001b[49m\u001b[43m(\u001b[49m\u001b[43ma\u001b[49m\u001b[43m,\u001b[49m\n\u001b[1;32m   4474\u001b[0m \u001b[43m                    \u001b[49m\u001b[43mfunc\u001b[49m\u001b[38;5;241;43m=\u001b[39;49m\u001b[43m_quantile_ureduce_func\u001b[49m\u001b[43m,\u001b[49m\n\u001b[1;32m   4475\u001b[0m \u001b[43m                    \u001b[49m\u001b[43mq\u001b[49m\u001b[38;5;241;43m=\u001b[39;49m\u001b[43mq\u001b[49m\u001b[43m,\u001b[49m\n\u001b[1;32m   4476\u001b[0m \u001b[43m                    \u001b[49m\u001b[43mkeepdims\u001b[49m\u001b[38;5;241;43m=\u001b[39;49m\u001b[43mkeepdims\u001b[49m\u001b[43m,\u001b[49m\n\u001b[1;32m   4477\u001b[0m \u001b[43m                    \u001b[49m\u001b[43maxis\u001b[49m\u001b[38;5;241;43m=\u001b[39;49m\u001b[43maxis\u001b[49m\u001b[43m,\u001b[49m\n\u001b[1;32m   4478\u001b[0m \u001b[43m                    \u001b[49m\u001b[43mout\u001b[49m\u001b[38;5;241;43m=\u001b[39;49m\u001b[43mout\u001b[49m\u001b[43m,\u001b[49m\n\u001b[1;32m   4479\u001b[0m \u001b[43m                    \u001b[49m\u001b[43moverwrite_input\u001b[49m\u001b[38;5;241;43m=\u001b[39;49m\u001b[43moverwrite_input\u001b[49m\u001b[43m,\u001b[49m\n\u001b[1;32m   4480\u001b[0m \u001b[43m                    \u001b[49m\u001b[43mmethod\u001b[49m\u001b[38;5;241;43m=\u001b[39;49m\u001b[43mmethod\u001b[49m\u001b[43m)\u001b[49m\n",
      "File \u001b[0;32m~/miniconda3/envs/rl/lib/python3.8/site-packages/numpy/lib/function_base.py:3752\u001b[0m, in \u001b[0;36m_ureduce\u001b[0;34m(a, func, keepdims, **kwargs)\u001b[0m\n\u001b[1;32m   3749\u001b[0m             index_out \u001b[38;5;241m=\u001b[39m (\u001b[38;5;241m0\u001b[39m, ) \u001b[38;5;241m*\u001b[39m nd\n\u001b[1;32m   3750\u001b[0m             kwargs[\u001b[38;5;124m'\u001b[39m\u001b[38;5;124mout\u001b[39m\u001b[38;5;124m'\u001b[39m] \u001b[38;5;241m=\u001b[39m out[(\u001b[38;5;28mEllipsis\u001b[39m, ) \u001b[38;5;241m+\u001b[39m index_out]\n\u001b[0;32m-> 3752\u001b[0m r \u001b[38;5;241m=\u001b[39m \u001b[43mfunc\u001b[49m\u001b[43m(\u001b[49m\u001b[43ma\u001b[49m\u001b[43m,\u001b[49m\u001b[43m \u001b[49m\u001b[38;5;241;43m*\u001b[39;49m\u001b[38;5;241;43m*\u001b[39;49m\u001b[43mkwargs\u001b[49m\u001b[43m)\u001b[49m\n\u001b[1;32m   3754\u001b[0m \u001b[38;5;28;01mif\u001b[39;00m out \u001b[38;5;129;01mis\u001b[39;00m \u001b[38;5;129;01mnot\u001b[39;00m \u001b[38;5;28;01mNone\u001b[39;00m:\n\u001b[1;32m   3755\u001b[0m     \u001b[38;5;28;01mreturn\u001b[39;00m out\n",
      "File \u001b[0;32m~/miniconda3/envs/rl/lib/python3.8/site-packages/numpy/lib/function_base.py:4639\u001b[0m, in \u001b[0;36m_quantile_ureduce_func\u001b[0;34m(a, q, axis, out, overwrite_input, method)\u001b[0m\n\u001b[1;32m   4637\u001b[0m     \u001b[38;5;28;01melse\u001b[39;00m:\n\u001b[1;32m   4638\u001b[0m         arr \u001b[38;5;241m=\u001b[39m a\u001b[38;5;241m.\u001b[39mcopy()\n\u001b[0;32m-> 4639\u001b[0m result \u001b[38;5;241m=\u001b[39m \u001b[43m_quantile\u001b[49m\u001b[43m(\u001b[49m\u001b[43marr\u001b[49m\u001b[43m,\u001b[49m\n\u001b[1;32m   4640\u001b[0m \u001b[43m                   \u001b[49m\u001b[43mquantiles\u001b[49m\u001b[38;5;241;43m=\u001b[39;49m\u001b[43mq\u001b[49m\u001b[43m,\u001b[49m\n\u001b[1;32m   4641\u001b[0m \u001b[43m                   \u001b[49m\u001b[43maxis\u001b[49m\u001b[38;5;241;43m=\u001b[39;49m\u001b[43maxis\u001b[49m\u001b[43m,\u001b[49m\n\u001b[1;32m   4642\u001b[0m \u001b[43m                   \u001b[49m\u001b[43mmethod\u001b[49m\u001b[38;5;241;43m=\u001b[39;49m\u001b[43mmethod\u001b[49m\u001b[43m,\u001b[49m\n\u001b[1;32m   4643\u001b[0m \u001b[43m                   \u001b[49m\u001b[43mout\u001b[49m\u001b[38;5;241;43m=\u001b[39;49m\u001b[43mout\u001b[49m\u001b[43m)\u001b[49m\n\u001b[1;32m   4644\u001b[0m \u001b[38;5;28;01mreturn\u001b[39;00m result\n",
      "File \u001b[0;32m~/miniconda3/envs/rl/lib/python3.8/site-packages/numpy/lib/function_base.py:4738\u001b[0m, in \u001b[0;36m_quantile\u001b[0;34m(arr, quantiles, axis, method, out)\u001b[0m\n\u001b[1;32m   4733\u001b[0m previous_indexes, next_indexes \u001b[38;5;241m=\u001b[39m _get_indexes(arr,\n\u001b[1;32m   4734\u001b[0m                                               virtual_indexes,\n\u001b[1;32m   4735\u001b[0m                                               values_count)\n\u001b[1;32m   4736\u001b[0m \u001b[38;5;66;03m# --- Sorting\u001b[39;00m\n\u001b[1;32m   4737\u001b[0m arr\u001b[38;5;241m.\u001b[39mpartition(\n\u001b[0;32m-> 4738\u001b[0m     \u001b[43mnp\u001b[49m\u001b[38;5;241;43m.\u001b[39;49m\u001b[43munique\u001b[49m\u001b[43m(\u001b[49m\u001b[43mnp\u001b[49m\u001b[38;5;241;43m.\u001b[39;49m\u001b[43mconcatenate\u001b[49m\u001b[43m(\u001b[49m\u001b[43m(\u001b[49m\u001b[43m[\u001b[49m\u001b[38;5;241;43m0\u001b[39;49m\u001b[43m,\u001b[49m\u001b[43m \u001b[49m\u001b[38;5;241;43m-\u001b[39;49m\u001b[38;5;241;43m1\u001b[39;49m\u001b[43m]\u001b[49m\u001b[43m,\u001b[49m\n\u001b[1;32m   4739\u001b[0m \u001b[43m                              \u001b[49m\u001b[43mprevious_indexes\u001b[49m\u001b[38;5;241;43m.\u001b[39;49m\u001b[43mravel\u001b[49m\u001b[43m(\u001b[49m\u001b[43m)\u001b[49m\u001b[43m,\u001b[49m\n\u001b[1;32m   4740\u001b[0m \u001b[43m                              \u001b[49m\u001b[43mnext_indexes\u001b[49m\u001b[38;5;241;43m.\u001b[39;49m\u001b[43mravel\u001b[49m\u001b[43m(\u001b[49m\u001b[43m)\u001b[49m\u001b[43m,\u001b[49m\n\u001b[1;32m   4741\u001b[0m \u001b[43m                              \u001b[49m\u001b[43m)\u001b[49m\u001b[43m)\u001b[49m\u001b[43m)\u001b[49m,\n\u001b[1;32m   4742\u001b[0m     axis\u001b[38;5;241m=\u001b[39mDATA_AXIS)\n\u001b[1;32m   4743\u001b[0m \u001b[38;5;28;01mif\u001b[39;00m np\u001b[38;5;241m.\u001b[39missubdtype(arr\u001b[38;5;241m.\u001b[39mdtype, np\u001b[38;5;241m.\u001b[39minexact):\n\u001b[1;32m   4744\u001b[0m     slices_having_nans \u001b[38;5;241m=\u001b[39m np\u001b[38;5;241m.\u001b[39misnan(\n\u001b[1;32m   4745\u001b[0m         take(arr, indices\u001b[38;5;241m=\u001b[39m\u001b[38;5;241m-\u001b[39m\u001b[38;5;241m1\u001b[39m, axis\u001b[38;5;241m=\u001b[39mDATA_AXIS)\n\u001b[1;32m   4746\u001b[0m     )\n",
      "File \u001b[0;32m<__array_function__ internals>:200\u001b[0m, in \u001b[0;36munique\u001b[0;34m(*args, **kwargs)\u001b[0m\n",
      "File \u001b[0;32m~/miniconda3/envs/rl/lib/python3.8/site-packages/numpy/lib/arraysetops.py:274\u001b[0m, in \u001b[0;36munique\u001b[0;34m(ar, return_index, return_inverse, return_counts, axis, equal_nan)\u001b[0m\n\u001b[1;32m    272\u001b[0m ar \u001b[38;5;241m=\u001b[39m np\u001b[38;5;241m.\u001b[39masanyarray(ar)\n\u001b[1;32m    273\u001b[0m \u001b[38;5;28;01mif\u001b[39;00m axis \u001b[38;5;129;01mis\u001b[39;00m \u001b[38;5;28;01mNone\u001b[39;00m:\n\u001b[0;32m--> 274\u001b[0m     ret \u001b[38;5;241m=\u001b[39m \u001b[43m_unique1d\u001b[49m\u001b[43m(\u001b[49m\u001b[43mar\u001b[49m\u001b[43m,\u001b[49m\u001b[43m \u001b[49m\u001b[43mreturn_index\u001b[49m\u001b[43m,\u001b[49m\u001b[43m \u001b[49m\u001b[43mreturn_inverse\u001b[49m\u001b[43m,\u001b[49m\u001b[43m \u001b[49m\u001b[43mreturn_counts\u001b[49m\u001b[43m,\u001b[49m\u001b[43m \u001b[49m\n\u001b[1;32m    275\u001b[0m \u001b[43m                    \u001b[49m\u001b[43mequal_nan\u001b[49m\u001b[38;5;241;43m=\u001b[39;49m\u001b[43mequal_nan\u001b[49m\u001b[43m)\u001b[49m\n\u001b[1;32m    276\u001b[0m     \u001b[38;5;28;01mreturn\u001b[39;00m _unpack_tuple(ret)\n\u001b[1;32m    278\u001b[0m \u001b[38;5;66;03m# axis was specified and not None\u001b[39;00m\n",
      "File \u001b[0;32m~/miniconda3/envs/rl/lib/python3.8/site-packages/numpy/lib/arraysetops.py:338\u001b[0m, in \u001b[0;36m_unique1d\u001b[0;34m(ar, return_index, return_inverse, return_counts, equal_nan)\u001b[0m\n\u001b[1;32m    336\u001b[0m     ar\u001b[38;5;241m.\u001b[39msort()\n\u001b[1;32m    337\u001b[0m     aux \u001b[38;5;241m=\u001b[39m ar\n\u001b[0;32m--> 338\u001b[0m mask \u001b[38;5;241m=\u001b[39m \u001b[43mnp\u001b[49m\u001b[38;5;241m.\u001b[39mempty(aux\u001b[38;5;241m.\u001b[39mshape, dtype\u001b[38;5;241m=\u001b[39mnp\u001b[38;5;241m.\u001b[39mbool_)\n\u001b[1;32m    339\u001b[0m mask[:\u001b[38;5;241m1\u001b[39m] \u001b[38;5;241m=\u001b[39m \u001b[38;5;28;01mTrue\u001b[39;00m\n\u001b[1;32m    340\u001b[0m \u001b[38;5;28;01mif\u001b[39;00m (equal_nan \u001b[38;5;129;01mand\u001b[39;00m aux\u001b[38;5;241m.\u001b[39mshape[\u001b[38;5;241m0\u001b[39m] \u001b[38;5;241m>\u001b[39m \u001b[38;5;241m0\u001b[39m \u001b[38;5;129;01mand\u001b[39;00m aux\u001b[38;5;241m.\u001b[39mdtype\u001b[38;5;241m.\u001b[39mkind \u001b[38;5;129;01min\u001b[39;00m \u001b[38;5;124m\"\u001b[39m\u001b[38;5;124mcfmM\u001b[39m\u001b[38;5;124m\"\u001b[39m \u001b[38;5;129;01mand\u001b[39;00m\n\u001b[1;32m    341\u001b[0m         np\u001b[38;5;241m.\u001b[39misnan(aux[\u001b[38;5;241m-\u001b[39m\u001b[38;5;241m1\u001b[39m])):\n",
      "\u001b[0;31mKeyboardInterrupt\u001b[0m: "
     ]
    }
   ],
   "source": [
    "exploit_rewards = dql_agent.exploit(env, num_episodes=10)"
   ]
  },
  {
   "cell_type": "code",
   "execution_count": null,
   "id": "6a3a679f-e508-456d-a6f2-10b725691d07",
   "metadata": {},
   "outputs": [],
   "source": []
  },
  {
   "cell_type": "code",
   "execution_count": null,
   "id": "874d7a33-a6a7-445e-b793-4e7f6037c74e",
   "metadata": {},
   "outputs": [],
   "source": []
  },
  {
   "cell_type": "code",
   "execution_count": null,
   "id": "158082d9-911a-4bfa-9946-079eb8324c58",
   "metadata": {},
   "outputs": [],
   "source": []
  },
  {
   "cell_type": "code",
   "execution_count": null,
   "id": "3c2d9aeb-cc01-4623-a485-639d36da7c01",
   "metadata": {},
   "outputs": [],
   "source": []
  },
  {
   "cell_type": "code",
   "execution_count": null,
   "id": "fb8f9464-9c9f-4977-9b50-fae309929fe9",
   "metadata": {},
   "outputs": [],
   "source": []
  },
  {
   "cell_type": "code",
   "execution_count": null,
   "id": "0da4dcab-b770-43bb-b1a4-79155d06a951",
   "metadata": {},
   "outputs": [],
   "source": []
  },
  {
   "cell_type": "code",
   "execution_count": null,
   "id": "31aa917b-090e-4c43-b1ef-8de124b3350c",
   "metadata": {},
   "outputs": [],
   "source": []
  },
  {
   "cell_type": "code",
   "execution_count": null,
   "id": "4a8fad31-660d-4a9e-9989-dd5ec697d90f",
   "metadata": {},
   "outputs": [],
   "source": []
  },
  {
   "cell_type": "code",
   "execution_count": null,
   "id": "02a82070-1e4a-4d28-b0b2-ec676c5d1440",
   "metadata": {},
   "outputs": [],
   "source": []
  },
  {
   "cell_type": "code",
   "execution_count": null,
   "id": "95959f7d-a303-4389-ba8f-d93af8b7243c",
   "metadata": {},
   "outputs": [],
   "source": []
  },
  {
   "cell_type": "code",
   "execution_count": null,
   "id": "627baa44-bad9-4bf6-be1a-8a5719daa0d1",
   "metadata": {},
   "outputs": [],
   "source": []
  },
  {
   "cell_type": "code",
   "execution_count": null,
   "id": "cb272b4f-8fb0-4fca-a44c-8c39b9add953",
   "metadata": {},
   "outputs": [],
   "source": []
  },
  {
   "cell_type": "code",
   "execution_count": null,
   "id": "64daabd8-0b31-473a-97b6-cdb9aa529401",
   "metadata": {},
   "outputs": [],
   "source": []
  }
 ],
 "metadata": {
  "kernelspec": {
   "display_name": "rl_3.8",
   "language": "python",
   "name": "rl_3.8"
  },
  "language_info": {
   "codemirror_mode": {
    "name": "ipython",
    "version": 3
   },
   "file_extension": ".py",
   "mimetype": "text/x-python",
   "name": "python",
   "nbconvert_exporter": "python",
   "pygments_lexer": "ipython3",
   "version": "3.8.18"
  }
 },
 "nbformat": 4,
 "nbformat_minor": 5
}
